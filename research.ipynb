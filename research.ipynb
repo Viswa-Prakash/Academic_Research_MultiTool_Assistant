{
 "cells": [
  {
   "cell_type": "code",
   "execution_count": 2,
   "id": "57871ec8",
   "metadata": {},
   "outputs": [],
   "source": [
    "import os\n",
    "from dotenv import load_dotenv\n",
    "load_dotenv()\n",
    "\n",
    "os.environ[\"OPENAI_API_KEY\"] = os.getenv(\"OPENAI_API_KEY\")\n",
    "os.environ[\"SERPER_API_KEY\"] = os.getenv(\"SERPER_API_KEY\")\n",
    "\n"
   ]
  },
  {
   "cell_type": "code",
   "execution_count": 3,
   "id": "0751c773",
   "metadata": {},
   "outputs": [],
   "source": [
    "from typing_extensions import TypedDict, Annotated\n",
    "\n",
    "from langchain.chat_models import init_chat_model\n",
    "from langchain.tools import Tool\n",
    "from langchain_community.tools import tool\n",
    "from langchain_core.messages import HumanMessage, AnyMessage\n",
    "\n",
    "from langchain_community.tools.arxiv.tool import ArxivQueryRun\n",
    "from langchain_community.utilities.arxiv import ArxivAPIWrapper\n",
    "from langchain_community.tools.wikipedia.tool import WikipediaQueryRun\n",
    "from langchain_community.utilities.wikipedia import WikipediaAPIWrapper\n",
    "from langchain_community.tools.semanticscholar import SemanticScholarQueryRun\n",
    "from langchain_community.utilities.semanticscholar import SemanticScholarAPIWrapper\n",
    "from langchain_community.utilities import GoogleSerperAPIWrapper\n",
    "from langchain_experimental.tools.python.tool import PythonREPLTool \n",
    "\n",
    "from langgraph.graph import StateGraph, END, START\n",
    "from langgraph.prebuilt import ToolNode\n",
    "from langgraph.graph.message import add_messages\n",
    "\n",
    "from IPython.display import Image, display"
   ]
  },
  {
   "cell_type": "code",
   "execution_count": 4,
   "id": "1607abf1",
   "metadata": {},
   "outputs": [],
   "source": [
    "llm = init_chat_model(\"gpt-4.1\", temperature=0.7)"
   ]
  },
  {
   "cell_type": "code",
   "execution_count": 5,
   "id": "be0bf136",
   "metadata": {},
   "outputs": [],
   "source": [
    "api_wrapper = ArxivAPIWrapper(top_k_results=5)\n",
    "\n",
    "arxiv_tool = Tool(\n",
    "    name=\"arxiv_search\",\n",
    "    description=\"Search Arxiv.org for academic papers. Input should be a search query, like 'quantum computing' or '1003.3568' for a specific paper ID.\", \n",
    "    func=ArxivQueryRun(api_wrapper=api_wrapper).run,\n",
    ")\n",
    "\n",
    "semanticscholar_tool = Tool(\n",
    "    name=\"semantic_scholar_search\",\n",
    "    description=\"Search for research papers on Semantic Scholar.\",\n",
    "    func=SemanticScholarQueryRun(api_wrapper=SemanticScholarAPIWrapper()).run,\n",
    ")\n",
    "\n",
    "api_wrapper = WikipediaAPIWrapper(top_k_results=2)\n",
    "\n",
    "wikipedia_tool = Tool(\n",
    "    name=\"wikipedia_search\",\n",
    "    description=\"Search Wikipedia for information on various subjects. Input should be a search query.\", \n",
    "    func=WikipediaQueryRun(api_wrapper=api_wrapper).run,\n",
    ")\n",
    "\n",
    "serper_tool = Tool(\n",
    "    name=\"serper\",\n",
    "    description=\"Search news, events, or facts using Serper-powered web search.\",\n",
    "    func=GoogleSerperAPIWrapper().run,\n",
    ")\n",
    "\n",
    "repl_tool = PythonREPLTool()\n",
    "\n",
    "tools = [arxiv_tool, semanticscholar_tool, wikipedia_tool, serper_tool, repl_tool]"
   ]
  },
  {
   "cell_type": "code",
   "execution_count": 6,
   "id": "ff776cdd",
   "metadata": {},
   "outputs": [],
   "source": [
    "react_prompt = \"\"\"\n",
    "You are a helpful and precise Academic Research Assistant.\n",
    "\n",
    "Your role is to support users by:\n",
    "- **Searching for and summarizing research papers** on a given topic.\n",
    "- **Retrieving information from Wikipedia** or reputable online sources.\n",
    "- **Translating scientific findings or summaries** into target languages, when requested.\n",
    "- **Citing sources and linking to papers** where possible.\n",
    "\n",
    "You have access to the following tools:\n",
    "- **Arxiv:** Retrieve recent/cited academic papers.\n",
    "- **Wikipedia:** Get encyclopedic background.\n",
    "- **Translation:** Translate text between languages.\n",
    "- **Python REPL:** Execute math, statistics, or calculations.\n",
    "- **Web search:** Supplement information from trusted sources.\n",
    "\n",
    "Please reason step-by-step using this format:\n",
    "Thought: Explain what you are thinking or planning to do next.  \n",
    "Action: The tool you are using (with parameters).  \n",
    "Action Input: What you are feeding to the tool.  \n",
    "Observation: The result from the tool.\n",
    "\n",
    "Repeat [Thought → Action → Observation] as needed.\n",
    "\n",
    "**When you have enough information, respond in this format:**\n",
    "Final Answer: <Provide a readable, referenced summary, answering the question thoroughly. Use bullet points or sections for clarity. Cite sources, and use translation if requested.>\n",
    "\n",
    "**Never invent answers, and do NOT cite papers or results unless they are verified by your tools or sources.**\n",
    "\"\"\"\n"
   ]
  },
  {
   "cell_type": "code",
   "execution_count": 7,
   "id": "f15dffb8",
   "metadata": {},
   "outputs": [],
   "source": [
    "class State(TypedDict):\n",
    "    messages : Annotated[list[AnyMessage], add_messages]"
   ]
  },
  {
   "cell_type": "code",
   "execution_count": 8,
   "id": "3c22b71a",
   "metadata": {},
   "outputs": [],
   "source": [
    "def reasoning_node(state: State):\n",
    "    # LLM with bound tools to enable tool-calling\n",
    "    llm_with_tools = llm.bind_tools(tools)\n",
    "    messages = [{\"role\": \"system\", \"content\": react_prompt}] + state[\"messages\"]\n",
    "    response = llm_with_tools.invoke(messages)\n",
    "    return {\"messages\": state[\"messages\"] + [response]}"
   ]
  },
  {
   "cell_type": "code",
   "execution_count": 9,
   "id": "de21a17e",
   "metadata": {},
   "outputs": [],
   "source": [
    "tool_node = ToolNode(tools = tools)"
   ]
  },
  {
   "cell_type": "code",
   "execution_count": 10,
   "id": "3184047c",
   "metadata": {},
   "outputs": [],
   "source": [
    "def should_continue(state: State):\n",
    "    last_message = state[\"messages\"][-1]\n",
    "    if hasattr(last_message, \"content\") and \"final answer:\" in last_message.content.lower():\n",
    "        return \"end\"\n",
    "    if hasattr(last_message, \"tool_calls\") and last_message.tool_calls:\n",
    "        return \"continue\"\n",
    "    if len(state[\"messages\"]) > 20:\n",
    "        return \"end\"\n",
    "    # Otherwise, no tool_calls, not a final answer, so end gracefully\n",
    "    return \"end\""
   ]
  },
  {
   "cell_type": "code",
   "execution_count": 12,
   "id": "524a02d1",
   "metadata": {},
   "outputs": [
    {
     "data": {
      "image/png": "[encoded data removed]",
      "text/plain": [
       "<IPython.core.display.Image object>"
      ]
     },
     "metadata": {},
     "output_type": "display_data"
    }
   ],
   "source": [
    "builder = StateGraph(State)\n",
    "builder.add_node(\"reason\", reasoning_node)\n",
    "builder.add_node(\"action\", tool_node)\n",
    "builder.set_entry_point(\"reason\")\n",
    "builder.add_conditional_edges(\n",
    "    \"reason\",\n",
    "    should_continue,\n",
    "    {\n",
    "        \"continue\": \"action\",\n",
    "        \"end\": END,\n",
    "    }\n",
    ")\n",
    "builder.add_edge(\"action\", \"reason\")\n",
    "research_agent = builder.compile()\n",
    "\n",
    "display(Image(research_agent.get_graph().draw_mermaid_png()))"
   ]
  },
  {
   "cell_type": "code",
   "execution_count": 14,
   "id": "e50c6c68",
   "metadata": {},
   "outputs": [
    {
     "name": "stderr",
     "output_type": "stream",
     "text": [
      "WARNING:langchain_experimental.utilities.python:Python REPL can execute arbitrary code. Use with caution.\n"
     ]
    },
    {
     "name": "stdout",
     "output_type": "stream",
     "text": [
      "Final Answer:\n",
      "\n",
      "Below are summaries of some of the most cited and influential reinforcement learning (RL) papers from the last two years, along with their main findings translated into Spanish.\n",
      "\n",
      "---\n",
      "\n",
      "### 1. Transfer Learning in Deep Reinforcement Learning: A Survey (2023)\n",
      "- **Main Findings (English):**\n",
      "  - Transfer learning addresses the data inefficiency and slow convergence of deep RL by transferring knowledge from source tasks or domains.\n",
      "  - The survey categorizes transfer learning methods, analyzing their goals, methodologies, and applications in deep RL.\n",
      "  - Challenges include negative transfer, transferability estimation, and scalable frameworks.\n",
      "\n",
      "- **Resumen en Español:**\n",
      "  - El aprendizaje por transferencia aborda la ineficiencia de datos y la lenta convergencia del aprendizaje por refuerzo profundo al transferir conocimientos de tareas o dominios fuente.\n",
      "  - La revisión categoriza los métodos de aprendizaje por transferencia, analizando sus objetivos, metodologías y aplicaciones en aprendizaje por refuerzo profundo.\n",
      "  - Los desafíos incluyen la transferencia negativa, la estimación de transferibilidad y marcos escalables.\n",
      "\n",
      "**Reference:**  \n",
      "Zhu, Zhuangdi et al. \"Transfer Learning in Deep Reinforcement Learning: A Survey.\" arXiv preprint arXiv:2307.01867 (2023). [arXiv Link](https://arxiv.org/abs/2307.01867)\n",
      "\n",
      "---\n",
      "\n",
      "### 2. Risk-Sensitive Reinforcement Learning with Exponential Criteria (2024)\n",
      "- **Main Findings (English):**\n",
      "  - Standard RL can be sensitive to noise and environmental perturbations, leading to unstable reward outcomes.\n",
      "  - This work introduces risk-sensitive RL formulations using exponential criteria, improving robustness and sample efficiency.\n",
      "  - A novel risk-sensitive online Actor-Critic algorithm is proposed, showing improved robustness in simulated experiments.\n",
      "\n",
      "- **Resumen en Español:**\n",
      "  - El aprendizaje por refuerzo estándar puede ser sensible al ruido y a las perturbaciones del entorno, lo que provoca resultados de recompensa inestables.\n",
      "  - Este trabajo introduce formulaciones de RL sensibles al riesgo usando criterios exponenciales, mejorando la robustez y la eficiencia en el muestreo.\n",
      "  - Se propone un nuevo algoritmo Actor-Critic sensible al riesgo, que demuestra mayor robustez en experimentos simulados.\n",
      "\n",
      "**Reference:**  \n",
      "Noorani, Erfaun et al. \"Risk-Sensitive Reinforcement Learning with Exponential Criteria.\" arXiv preprint arXiv:2406.17597 (2024). [arXiv Link](https://arxiv.org/abs/2406.17597)\n",
      "\n",
      "---\n",
      "\n",
      "### 3. Deep Reinforcement Learning with Swin Transformers (2024)\n",
      "- **Main Findings (English):**\n",
      "  - Introduces the use of Swin Transformers in deep RL, leveraging their self-attention mechanisms for better feature extraction.\n",
      "  - This adaptation improves performance in visual RL tasks compared to traditional convolutional networks.\n",
      "  - Shows promise for tasks requiring spatial-temporal reasoning.\n",
      "\n",
      "- **Resumen en Español:**\n",
      "  - Introduce el uso de Swin Transformers en RL profundo, aprovechando sus mecanismos de auto-atención para una mejor extracción de características.\n",
      "  - Esta adaptación mejora el rendimiento en tareas visuales de RL en comparación con las redes convolucionales tradicionales.\n",
      "  - Muestra potencial para tareas que requieren razonamiento espacio-temporal.\n",
      "\n",
      "**Reference:**  \n",
      "Meng, Li et al. \"Deep Reinforcement Learning with Swin Transformers.\" arXiv preprint arXiv:2406.14639 (2024). [arXiv Link](https://arxiv.org/abs/2406.14639)\n",
      "\n",
      "---\n",
      "\n",
      "### 4. A Stock Prediction Method Based on Deep Reinforcement Learning and Sentiment Analysis (2024)\n",
      "- **Main Findings (English):**\n",
      "  - Combines Q-learning with convolutional neural networks and sentiment analysis to predict stock prices, including for newly listed stocks without historical data.\n",
      "  - The model outperforms other methods in maximizing investment returns on Chinese stocks.\n",
      "  - Demonstrates the value of integrating market sentiment in RL for financial tasks.\n",
      "\n",
      "- **Resumen en Español:**\n",
      "  - Combina Q-learning con redes neuronales convolucionales y análisis de sentimiento para predecir precios de acciones, incluso para acciones nuevas sin datos históricos.\n",
      "  - El modelo supera a otros métodos en la maximización de rendimientos de inversión en acciones chinas.\n",
      "  - Demuestra el valor de integrar el sentimiento del mercado en RL para tareas financieras.\n",
      "\n",
      "**Reference:**  \n",
      "Du, Sha & Shen, Hailong. \"A Stock Prediction Method Based on Deep Reinforcement Learning and Sentiment Analysis.\" (2024).\n",
      "\n",
      "---\n",
      "\n",
      "These papers reflect key trends in RL research: transfer learning, risk sensitivity, advanced neural architectures, and real-world applications such as finance.\n",
      "\n",
      "Let me know if you need further details or additional translations!\n"
     ]
    }
   ],
   "source": [
    "query = (\"\"\"\n",
    "         Summarize the most cited papers in reinforcement learning from the last two years. \n",
    "         Also, translate the main findings into Spanish.\n",
    "         \"\"\")\n",
    "\n",
    "state = {\"messages\": [HumanMessage(content=query)]}\n",
    "result = research_agent.invoke(state)\n",
    "\n",
    "print(result[\"messages\"][-1].content)\n"
   ]
  },
  {
   "cell_type": "code",
   "execution_count": 13,
   "id": "dd5eef65",
   "metadata": {},
   "outputs": [
    {
     "name": "stdout",
     "output_type": "stream",
     "text": [
      "Hello! How can I help you today? If you need research papers, summaries, translations, or academic information, just let me know your topic or question.\n"
     ]
    }
   ],
   "source": [
    "query = (\"Hi\")\n",
    "\n",
    "state = {\"messages\": [HumanMessage(content=query)]}\n",
    "result = research_agent.invoke(state)\n",
    "\n",
    "print(result[\"messages\"][-1].content)"
   ]
  },
  {
   "cell_type": "code",
   "execution_count": null,
   "id": "1b579202",
   "metadata": {},
   "outputs": [],
   "source": []
  }
 ],
 "metadata": {
  "kernelspec": {
   "display_name": "reactagent",
   "language": "python",
   "name": "python3"
  },
  "language_info": {
   "codemirror_mode": {
    "name": "ipython",
    "version": 3
   },
   "file_extension": ".py",
   "mimetype": "text/x-python",
   "name": "python",
   "nbconvert_exporter": "python",
   "pygments_lexer": "ipython3",
   "version": "3.13.0"
  }
 },
 "nbformat": 4,
 "nbformat_minor": 5
}
